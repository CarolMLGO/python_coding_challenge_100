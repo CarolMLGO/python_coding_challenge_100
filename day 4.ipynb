{
 "cells": [
  {
   "cell_type": "code",
   "execution_count": null,
   "metadata": {},
   "outputs": [],
   "source": [
    "Write a program that accepts a sentence and calculate the number of upper case letters and lower case letters.\n",
    "\n",
    "Suppose the following input is supplied to the program:\n",
    "\n",
    "Hello world!\n",
    "Then, the output should be:\n",
    "\n",
    "UPPER CASE 1\n",
    "LOWER CASE 9"
   ]
  }
 ],
 "metadata": {
  "kernelspec": {
   "display_name": "Python 3",
   "language": "python",
   "name": "python3"
  },
  "language_info": {
   "codemirror_mode": {
    "name": "ipython",
    "version": 3
   },
   "file_extension": ".py",
   "mimetype": "text/x-python",
   "name": "python",
   "nbconvert_exporter": "python",
   "pygments_lexer": "ipython3",
   "version": "3.6.5"
  }
 },
 "nbformat": 4,
 "nbformat_minor": 2
}
