{
 "cells": [
  {
   "cell_type": "markdown",
   "metadata": {},
   "source": [
    "## day 2: 11-13-2019\n",
    "\n",
    "### Q4\n",
    "\n",
    "**Write a program which accepts a sequence of comma-separated numbers from console and generate a list and a tuple which contains every number.**\n",
    "\n",
    "Suppose the following input is supplied to the program: 34,67,55,33,12,98\n",
    "\n",
    "Then, the output should be:\n",
    "\n",
    "- ['34', '67', '55', '33', '12', '98']\n",
    "\n",
    "- ('34', '67', '55', '33', '12', '98')"
   ]
  },
  {
   "cell_type": "code",
   "execution_count": 13,
   "metadata": {},
   "outputs": [
    {
     "name": "stdout",
     "output_type": "stream",
     "text": [
      "Please enter a sequence of comma-seprated numbers:1,23\n",
      "['22', '3']\n",
      "('1', '23')\n"
     ]
    }
   ],
   "source": [
    "num_input = input('Please enter a sequence of comma-seprated numbers:')\n",
    "num = num_input.split(',')\n",
    "# do not need to create a function to do this,can directly run the codes contained in the function\n",
    "def list_tuple_generator(num):\n",
    "    tuple_g = tuple(num)\n",
    "    print(num_split)\n",
    "    print(tuple_g)\n",
    "\n",
    "list_tuple_generator(num)"
   ]
  },
  {
   "cell_type": "markdown",
   "metadata": {},
   "source": [
    "### Q5\n",
    "\n",
    "**Define a class which has at least two methods:**\n",
    "1. getString: to get a string from console input.\n",
    "2. printString: to print the string in upper case.\n",
    "\n",
    "Also please include simple test function to test the class methods."
   ]
  },
  {
   "cell_type": "code",
   "execution_count": 25,
   "metadata": {},
   "outputs": [],
   "source": [
    "class My_str():\n",
    "    def __init__(self):\n",
    "        self.enter_String = \"\"\n",
    "    \n",
    "    def getString(self):\n",
    "        self.enter_String = input('enter something:')\n",
    "    \n",
    "    def printString(self):\n",
    "        print(self.enter_String.upper())"
   ]
  },
  {
   "cell_type": "code",
   "execution_count": 26,
   "metadata": {},
   "outputs": [
    {
     "name": "stdout",
     "output_type": "stream",
     "text": [
      "enter something:fsdf\n",
      "FSDF\n"
     ]
    }
   ],
   "source": [
    "#test\n",
    "str_1 = My_str()\n",
    "str_1.getString()\n",
    "str_1.printString()"
   ]
  },
  {
   "cell_type": "markdown",
   "metadata": {},
   "source": [
    "### Q6\n",
    "**Write a program that calculates and prints the value according to the given formula:**\n",
    "\n",
    " $$Q = \\sqrt{\\frac{2*C*D}{H}}$$\n",
    "Following are the fixed values of C and H:\n",
    "\n",
    "C = 50. H = 30.\n",
    "\n",
    "D is the variable whose values should be input to your program in a comma-separated sequence.For example Let us assume the following comma separated input sequence is given to the program:\n",
    "\n",
    "100, 150, 180\n",
    "\n",
    "The output of the program should be:\n",
    "\n",
    "18, 22, 24"
   ]
  },
  {
   "cell_type": "code",
   "execution_count": 31,
   "metadata": {},
   "outputs": [
    {
     "name": "stdout",
     "output_type": "stream",
     "text": [
      "please enter comma-separated numbers:100, 150, 180\n",
      "18,22,24,"
     ]
    }
   ],
   "source": [
    "import math\n",
    "my_num = input('please enter comma-separated numbers:')\n",
    "my_num = my_num.split(',') \n",
    "C = 50\n",
    "H = 30\n",
    "for D in my_num:\n",
    "    ans = math.sqrt(2*C*int(D)/H)\n",
    "    print(round(ans),end=',')"
   ]
  },
  {
   "cell_type": "markdown",
   "metadata": {},
   "source": [
    "### Q7\n",
    "**Write a program which takes 2 digits, X,Y as input and generates a 2-dimensional array. The element value in the i-th row and j-th column of the array should be i * j.**\n",
    "\n",
    "Note: i=0,1.., X-1; j=0,1,¡­Y-1. Suppose the following inputs are given to the program: 3,5\n",
    "\n",
    "Then, the output of the program should be:\n",
    "\n",
    "[[0, 0, 0, 0, 0], [0, 1, 2, 3, 4], [0, 2, 4, 6, 8]]"
   ]
  },
  {
   "cell_type": "code",
   "execution_count": 18,
   "metadata": {},
   "outputs": [
    {
     "name": "stdout",
     "output_type": "stream",
     "text": [
      "enter two comma sperated numbers3,4\n"
     ]
    }
   ],
   "source": [
    "# import numpy as np\n",
    "# def transformed_array(row, column):\n",
    "#     my_array = np.zeros((row,column))\n",
    "#     for i in range(row):\n",
    "#         for j in range(column):\n",
    "#             my_array[i,j] = i*j\n",
    "#     return my_array\n",
    "# print(transformed_array(3,5))\n",
    "\n",
    "row,column = map(int, input(\"enter two comma sperated numbers\").split(','))\n",
    "my_array = []\n"
   ]
  },
  {
   "cell_type": "markdown",
   "metadata": {},
   "source": [
    "### Q8\n",
    "**Write a program that accepts a comma separated sequence of words as input and prints the words in a comma-separated sequence after sorting them alphabetically.**\n",
    "\n",
    "Suppose the following input is supplied to the program:\n",
    "\n",
    "- without,hello,bag,world\n",
    "\n",
    "Then, the output should be:\n",
    "\n",
    "- bag,hello,without,world"
   ]
  },
  {
   "cell_type": "code",
   "execution_count": 34,
   "metadata": {},
   "outputs": [
    {
     "name": "stdout",
     "output_type": "stream",
     "text": [
      "please enter a comma separated sequence of words:without,hello,bag,world\n",
      "bag,hello,without,world\n"
     ]
    }
   ],
   "source": [
    "my_words = input('please enter a comma separated sequence of words:')\n",
    "my_words = my_words.split(',')\n",
    "sorted_words = sorted(my_words)\n",
    "# for word in sorted_words:\n",
    "#     print(word,end=',')\n",
    "print(','.join(sorted_words))"
   ]
  },
  {
   "cell_type": "markdown",
   "metadata": {},
   "source": [
    "### Q9\n",
    "**Write a program that accepts sequence of lines as input and prints the lines after making all characters in the sentence capitalized.**\n",
    "\n",
    "Suppose the following input is supplied to the program:\n",
    "\n",
    "- Hello world\n",
    "\n",
    "- Practice makes perfect\n",
    "\n",
    "Then, the output should be:\n",
    "\n",
    "- HELLO WORLD\n",
    "\n",
    "- PRACTICE MAKES PERFECT"
   ]
  },
  {
   "cell_type": "code",
   "execution_count": 10,
   "metadata": {},
   "outputs": [
    {
     "name": "stdout",
     "output_type": "stream",
     "text": [
      "fdsaf\n",
      "fsdfs\n",
      "\n",
      "FDSAF\n",
      "FSDFS\n"
     ]
    }
   ],
   "source": [
    "my_lst = []\n",
    "\n",
    "while True:\n",
    "    lst = input()\n",
    "    if len(lst)==0:\n",
    "        break;\n",
    "    my_lst.append(lst.upper())\n",
    "\n",
    "for line in my_lst:\n",
    "    print(line)"
   ]
  },
  {
   "cell_type": "code",
   "execution_count": null,
   "metadata": {},
   "outputs": [],
   "source": []
  }
 ],
 "metadata": {
  "kernelspec": {
   "display_name": "Python 3",
   "language": "python",
   "name": "python3"
  },
  "language_info": {
   "codemirror_mode": {
    "name": "ipython",
    "version": 3
   },
   "file_extension": ".py",
   "mimetype": "text/x-python",
   "name": "python",
   "nbconvert_exporter": "python",
   "pygments_lexer": "ipython3",
   "version": "3.6.5"
  }
 },
 "nbformat": 4,
 "nbformat_minor": 2
}
