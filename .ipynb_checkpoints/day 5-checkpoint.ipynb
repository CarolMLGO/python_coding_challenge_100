{
 "cells": [
  {
   "cell_type": "markdown",
   "metadata": {},
   "source": [
    "## day 5: 11-16-2019 Q16 - 17\n",
    "\n",
    "### Q16\n",
    "\n",
    "**Use a list comprehension to square each odd number in a list. The list is input by a sequence of comma-separated numbers. Suppose the following input is supplied to the program:**\n",
    "\n",
    "- 1,2,3,4,5,6,7,8,9\n",
    "\n",
    "Then, the output should be:\n",
    "\n",
    "- 1,9,25,49,81"
   ]
  },
  {
   "cell_type": "code",
   "execution_count": 7,
   "metadata": {},
   "outputs": [
    {
     "name": "stdout",
     "output_type": "stream",
     "text": [
      "please enter a sequence of comma-separated numbers:1,2,3,4,5,6,7,8,9\n",
      "1,9,25,49,81\n"
     ]
    }
   ],
   "source": [
    "lst = input(\"please enter a sequence of comma-separated numbers:\").split(',')\n",
    "output_lst = [str(int(s)**2) for s in lst if int(s)%2 !=0]\n",
    "print(','.join(output_lst))"
   ]
  },
  {
   "cell_type": "markdown",
   "metadata": {},
   "source": [
    "### Q16\n",
    "\n",
    "**Write a program that computes the net amount of a bank account based a transaction log from console input. The transaction log format is shown as following:**\n",
    "\n",
    "- D 100\n",
    "- W 200\n",
    "\n",
    "D means deposit while W means withdrawal.\n",
    "Suppose the following input is supplied to the program:\n",
    "\n",
    "- D 300\n",
    "- D 300\n",
    "- W 200\n",
    "- D 100\n",
    "\n",
    "Then, the output should be:\n",
    "\n",
    "- 500"
   ]
  },
  {
   "cell_type": "code",
   "execution_count": 23,
   "metadata": {},
   "outputs": [
    {
     "name": "stdout",
     "output_type": "stream",
     "text": [
      "D 300\n",
      "D 300\n",
      "W 200\n",
      "D 100\n",
      "\n",
      "500\n"
     ]
    }
   ],
   "source": [
    "import re\n",
    "\n",
    "my_lst = []\n",
    "\n",
    "while True:\n",
    "    lst = input()\n",
    "    if len(lst)==0:\n",
    "        break;\n",
    "    my_lst.append(lst.upper())\n",
    "# print(my_lst)\n",
    "balance = 0\n",
    "for line in my_lst:\n",
    "    if \"D\" in line:\n",
    "        deposite = re.search('[0-9]+',line)\n",
    "        balance += int(deposite.group())\n",
    "    elif \"W\" in line:\n",
    "        withdrawal = re.search('[0-9]+',line)\n",
    "        balance -= int(withdrawal.group())\n",
    "    else:\n",
    "        continue\n",
    "print(balance)\n"
   ]
  },
  {
   "cell_type": "code",
   "execution_count": null,
   "metadata": {},
   "outputs": [],
   "source": [
    "# solutions from other people\n",
    "lst = []\n",
    "while True:\n",
    "  x = input()\n",
    "  if len(x)==0:\n",
    "    break\n",
    "  lst.append(x)\n",
    "\n",
    "balance = 0\n",
    "for item in lst:\n",
    "  if 'D' in item:\n",
    "    balance += int(item.strip('D '))\n",
    "  if 'W' in item:\n",
    "    balance -= int(item.strip('W '))\n",
    "print(balance)"
   ]
  },
  {
   "cell_type": "code",
   "execution_count": null,
   "metadata": {},
   "outputs": [],
   "source": [
    "total = 0\n",
    "while True:\n",
    "    s = input().split()\n",
    "    if not s:            # break if the string is empty\n",
    "        break\n",
    "    cm,num = map(str,s)    # two inputs are distributed in cm and num in string data type\n",
    "\n",
    "    if cm=='D':\n",
    "        total+=int(num)\n",
    "    if cm=='W':\n",
    "        total-=int(num)\n",
    "\n",
    "print(total)"
   ]
  },
  {
   "cell_type": "code",
   "execution_count": null,
   "metadata": {},
   "outputs": [],
   "source": []
  }
 ],
 "metadata": {
  "kernelspec": {
   "display_name": "Python 3",
   "language": "python",
   "name": "python3"
  },
  "language_info": {
   "codemirror_mode": {
    "name": "ipython",
    "version": 3
   },
   "file_extension": ".py",
   "mimetype": "text/x-python",
   "name": "python",
   "nbconvert_exporter": "python",
   "pygments_lexer": "ipython3",
   "version": "3.6.5"
  }
 },
 "nbformat": 4,
 "nbformat_minor": 2
}
