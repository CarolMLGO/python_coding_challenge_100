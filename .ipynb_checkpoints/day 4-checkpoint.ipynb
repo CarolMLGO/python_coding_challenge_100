{
 "cells": [
  {
   "cell_type": "markdown",
   "metadata": {},
   "source": [
    "## day 3: 11-15-2019 Q14 - 15\n",
    "\n",
    "### Q14\n",
    "\n",
    "**Write a program that accepts a sentence and calculate the number of upper case letters and lower case letters.**\n",
    "\n",
    "Suppose the following input is supplied to the program:\n",
    "\n",
    "- Hello world!\n",
    "\n",
    "Then, the output should be:\n",
    "\n",
    "- UPPER CASE 1\n",
    "- LOWER CASE 9"
   ]
  },
  {
   "cell_type": "code",
   "execution_count": 3,
   "metadata": {},
   "outputs": [
    {
     "name": "stdout",
     "output_type": "stream",
     "text": [
      "enter a sentence:Hello world!\n",
      "UPPER CASE 1\n",
      "LOWER CASE 9\n"
     ]
    }
   ],
   "source": [
    "import re\n",
    "s = input(\"enter a sentence:\")\n",
    "lower_s = re.findall('[a-z]',s)\n",
    "upper_s = re.findall('[A-Z]',s)\n",
    "print(f\"UPPER CASE {len(upper_s)}\")\n",
    "print(f\"LOWER CASE {len(lower_s)}\")   "
   ]
  },
  {
   "cell_type": "code",
   "execution_count": 4,
   "metadata": {},
   "outputs": [
    {
     "name": "stdout",
     "output_type": "stream",
     "text": [
      "Hello world!\n",
      "UPPER CASE 1\n",
      "LOWER CASE 9\n"
     ]
    }
   ],
   "source": [
    "# second way\n",
    "word = input()\n",
    "upper,lower = 0,0\n",
    "\n",
    "for i in word:\n",
    "        lower+=i.islower()\n",
    "        upper+=i.isupper()\n",
    "\n",
    "print(\"UPPER CASE {0}\\nLOWER CASE {1}\".format(upper,lower))"
   ]
  },
  {
   "cell_type": "markdown",
   "metadata": {},
   "source": [
    "### Q15\n",
    "\n",
    "**Write a program that computes the value of a+aa+aaa+aaaa with a given digit as the value of a.**\n",
    "\n",
    "Suppose the following input is supplied to the program:\n",
    "\n",
    "- 9\n",
    "\n",
    "Then, the output should be:\n",
    "\n",
    "- 11106"
   ]
  },
  {
   "cell_type": "code",
   "execution_count": 12,
   "metadata": {},
   "outputs": [
    {
     "name": "stdout",
     "output_type": "stream",
     "text": [
      "enter a digit:9\n",
      "11106\n"
     ]
    }
   ],
   "source": [
    "d = input(\"enter a digit:\")\n",
    "\n",
    "result = int(d) + int(d*2) + int(d*3) + int(d*4)    \n",
    "print(result)"
   ]
  }
 ],
 "metadata": {
  "kernelspec": {
   "display_name": "Python 3",
   "language": "python",
   "name": "python3"
  },
  "language_info": {
   "codemirror_mode": {
    "name": "ipython",
    "version": 3
   },
   "file_extension": ".py",
   "mimetype": "text/x-python",
   "name": "python",
   "nbconvert_exporter": "python",
   "pygments_lexer": "ipython3",
   "version": "3.6.5"
  }
 },
 "nbformat": 4,
 "nbformat_minor": 2
}
