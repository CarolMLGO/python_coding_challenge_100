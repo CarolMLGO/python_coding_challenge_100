{
 "cells": [
  {
   "cell_type": "markdown",
   "metadata": {},
   "source": [
    "## day 7: 11-18-2019 Q20 - 21\n",
    "\n",
    "### Q20\n",
    "\n",
    "**Define a class with a generator which can iterate the numbers, which are divisible by 7, between a given range 0 and n.**"
   ]
  },
  {
   "cell_type": "code",
   "execution_count": 5,
   "metadata": {},
   "outputs": [
    {
     "name": "stdout",
     "output_type": "stream",
     "text": [
      "[0, 7, 14]\n"
     ]
    }
   ],
   "source": [
    "class iterate_num:\n",
    "    def __init__(self,n):\n",
    "        self.n = n\n",
    "    def iterate_n(self):\n",
    "        i = 0\n",
    "        while i < self.n:\n",
    "            if i % 7 == 0:\n",
    "                yield i\n",
    "            i += 1\n",
    "g = iterate_num(21)\n",
    "print(list(g.iterate_n()))"
   ]
  },
  {
   "cell_type": "code",
   "execution_count": 8,
   "metadata": {},
   "outputs": [
    {
     "name": "stdout",
     "output_type": "stream",
     "text": [
      "21\n",
      "[0, 7, 14]\n"
     ]
    }
   ],
   "source": [
    "# another way not actually using a \"generator\"...\n",
    "class Iterate_num:\n",
    "    def generator(self,n):\n",
    "        return [i for i in range(n) if i%7 == 0]\n",
    "n = int(input())\n",
    "n_g = Iterate_num()\n",
    "lst = n_g.generator(n)\n",
    "print(lst)"
   ]
  },
  {
   "cell_type": "markdown",
   "metadata": {},
   "source": [
    "### Q21\n",
    "\n",
    "**A robot moves in a plane starting from the original point (0,0). The robot can move toward UP, DOWN, LEFT and RIGHT with a given steps. The trace of robot movement is shown as the following:**\n",
    "\n",
    "- UP 5\n",
    "- DOWN 3\n",
    "- LEFT 3\n",
    "- RIGHT 2\n",
    "\n",
    "The numbers after the direction are steps. Please write a program to compute the distance from current position after a sequence of movement and original point. If the distance is a float, then just print the nearest integer. Example: If the following tuples are given as input to the program:\n",
    "\n",
    "- UP 5\n",
    "- DOWN 3\n",
    "- LEFT 3\n",
    "- RIGHT 2\n",
    "\n",
    "Then, the output of the program should be:\n",
    "\n",
    "2"
   ]
  },
  {
   "cell_type": "code",
   "execution_count": 1,
   "metadata": {},
   "outputs": [
    {
     "name": "stdout",
     "output_type": "stream",
     "text": [
      "UP 5\n",
      "DOWN 3\n",
      "LEFT 3\n",
      "RIGHT 2\n",
      "\n",
      "2\n"
     ]
    }
   ],
   "source": [
    "x,y=0,0\n",
    "while True:\n",
    "    s = input().split()\n",
    "    if not s:\n",
    "        break\n",
    "    if \"UP\" == s[0]:\n",
    "        y += int(s[1])\n",
    "    if \"DOWN\" == s[0]:\n",
    "        y -= int(s[1])\n",
    "    if \"LEFT\" == s[0]:\n",
    "        x -= int(s[1])\n",
    "    if \"RIGHT\" == s[0]:\n",
    "        x += int(s[1]) \n",
    "import math\n",
    "dist = math.sqrt(x**2+y**2)\n",
    "print(round(dist))"
   ]
  },
  {
   "cell_type": "code",
   "execution_count": 4,
   "metadata": {},
   "outputs": [
    {
     "name": "stdout",
     "output_type": "stream",
     "text": [
      "['']\n"
     ]
    }
   ],
   "source": [
    "txt = \"\"\n",
    "\n",
    "x = txt.split(\" \")\n",
    "\n",
    "print(x)"
   ]
  },
  {
   "cell_type": "code",
   "execution_count": null,
   "metadata": {},
   "outputs": [],
   "source": []
  }
 ],
 "metadata": {
  "kernelspec": {
   "display_name": "Python 3",
   "language": "python",
   "name": "python3"
  },
  "language_info": {
   "codemirror_mode": {
    "name": "ipython",
    "version": 3
   },
   "file_extension": ".py",
   "mimetype": "text/x-python",
   "name": "python",
   "nbconvert_exporter": "python",
   "pygments_lexer": "ipython3",
   "version": "3.7.0"
  }
 },
 "nbformat": 4,
 "nbformat_minor": 2
}
