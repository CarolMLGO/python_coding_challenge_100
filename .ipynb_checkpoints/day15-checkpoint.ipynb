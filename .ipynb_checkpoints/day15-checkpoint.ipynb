{
 "cells": [
  {
   "cell_type": "markdown",
   "metadata": {},
   "source": [
    "## day 15: 11-26-2019 Q54 - Q59\n",
    "\n",
    "### Q54\n",
    "**Assuming that we have some email addresses in the \"username@companyname.com\" format, please write program to print the company name of a given email address. Both user names and company names are composed of letters only.**\n",
    "\n",
    "Example: If the following email address is given as input to the program:\n",
    "\n",
    "- john@google.com\n",
    "\n",
    "Then, the output of the program should be:\n",
    "\n",
    "- google"
   ]
  },
  {
   "cell_type": "code",
   "execution_count": 5,
   "metadata": {},
   "outputs": [
    {
     "name": "stdout",
     "output_type": "stream",
     "text": [
      "enter email address:\"john@google.com elise@python.com\"\n",
      "['google', 'python']\n"
     ]
    }
   ],
   "source": [
    "import re\n",
    "\n",
    "email = input(\"enter email address:\")\n",
    "print(re.findall('\\w+@(\\w+).com',email))"
   ]
  },
  {
   "cell_type": "markdown",
   "metadata": {},
   "source": [
    "### Q55\n",
    "**Write a program which accepts a sequence of words separated by whitespace as input to print the words composed of digits only.**\n",
    "\n",
    "Example: If the following words is given as input to the program:\n",
    "\n",
    "- 2 cats and 3 dogs.\n",
    "\n",
    "Then, the output of the program should be:\n",
    "\n",
    "- ['2', '3']"
   ]
  },
  {
   "cell_type": "code",
   "execution_count": 14,
   "metadata": {},
   "outputs": [
    {
     "name": "stdout",
     "output_type": "stream",
     "text": [
      "enter words separated by whitespace2 cats and 3 dogs.\n",
      "['2', '3']\n"
     ]
    }
   ],
   "source": [
    "import re\n",
    "s = input(\"enter words separated by whitespace\")\n",
    "d = re.findall('\\d+',s)\n",
    "print(d)"
   ]
  },
  {
   "cell_type": "markdown",
   "metadata": {},
   "source": [
    "### Q56\n",
    "**Print a unicode string \"hello world\".**"
   ]
  },
  {
   "cell_type": "code",
   "execution_count": 26,
   "metadata": {},
   "outputs": [
    {
     "name": "stdout",
     "output_type": "stream",
     "text": [
      "hello world ön\n"
     ]
    }
   ],
   "source": [
    "s = u\"hello world ön\"\n",
    "print(s)"
   ]
  },
  {
   "cell_type": "markdown",
   "metadata": {},
   "source": [
    "### Q57\n",
    "**Write a program to read an ASCII string and to convert it to a unicode string encoded by utf-8.**"
   ]
  },
  {
   "cell_type": "code",
   "execution_count": 28,
   "metadata": {},
   "outputs": [
    {
     "name": "stdout",
     "output_type": "stream",
     "text": [
      "b'hello world \\xc3\\xb6n'\n"
     ]
    }
   ],
   "source": [
    "s= \"hello world ön\"\n",
    "print(s.encode(\"utf-8\"))"
   ]
  },
  {
   "cell_type": "markdown",
   "metadata": {},
   "source": [
    "### Q58\n",
    "**Write a special comment to indicate a Python source code file is in unicode.**"
   ]
  },
  {
   "cell_type": "code",
   "execution_count": 29,
   "metadata": {},
   "outputs": [],
   "source": [
    "# -*- coding: utf-8 -*-"
   ]
  },
  {
   "cell_type": "markdown",
   "metadata": {},
   "source": [
    "### Q59\n",
    "**Write a program to compute 1/2+2/3+3/4+...+n/n+1 with a given n input by console (n>0).**\n",
    "\n",
    "Example: If the following n is given as input to the program:\n",
    "\n",
    "- 5\n",
    "\n",
    "Then, the output of the program should be:\n",
    "\n",
    "- 3.55"
   ]
  },
  {
   "cell_type": "code",
   "execution_count": 33,
   "metadata": {},
   "outputs": [
    {
     "name": "stdout",
     "output_type": "stream",
     "text": [
      "enter a integer:5\n",
      "3.55\n"
     ]
    }
   ],
   "source": [
    "n = int(input(\"enter a integer:\"))\n",
    "s = 0\n",
    "while n >= 1:\n",
    "    n1 = n + 1\n",
    "    s += n/n1\n",
    "    n1 = n\n",
    "    n = n1-1\n",
    "    \n",
    "print(s)"
   ]
  },
  {
   "cell_type": "code",
   "execution_count": 34,
   "metadata": {},
   "outputs": [
    {
     "name": "stdout",
     "output_type": "stream",
     "text": [
      "5\n",
      "3.55\n"
     ]
    }
   ],
   "source": [
    "n = int(input())\n",
    "s = 0\n",
    "for i in range(1, n+1):\n",
    "    s+= i/(i+1)\n",
    "print(round(s, 2))  # rounded to 2 decimal point"
   ]
  },
  {
   "cell_type": "code",
   "execution_count": null,
   "metadata": {},
   "outputs": [],
   "source": []
  }
 ],
 "metadata": {
  "kernelspec": {
   "display_name": "Python 3",
   "language": "python",
   "name": "python3"
  },
  "language_info": {
   "codemirror_mode": {
    "name": "ipython",
    "version": 3
   },
   "file_extension": ".py",
   "mimetype": "text/x-python",
   "name": "python",
   "nbconvert_exporter": "python",
   "pygments_lexer": "ipython3",
   "version": "3.7.0"
  }
 },
 "nbformat": 4,
 "nbformat_minor": 2
}
