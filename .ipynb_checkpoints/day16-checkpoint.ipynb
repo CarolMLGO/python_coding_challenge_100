{
 "cells": [
  {
   "cell_type": "markdown",
   "metadata": {},
   "source": [
    "## day 16: 11-27-2019 Q60 - Q64\n",
    "\n",
    "### Q60\n",
    "**Write a program to compute:**\n",
    "\n",
    "- f(n)=f(n-1)+100 when n>0\n",
    "\n",
    "- and f(0)=0\n",
    "\n",
    "with a given n input by console (n>0).\n",
    "\n",
    "Example: If the following n is given as input to the program:\n",
    "\n",
    "- 5\n",
    "\n",
    "Then, the output of the program should be:\n",
    "\n",
    "- 500"
   ]
  },
  {
   "cell_type": "code",
   "execution_count": 7,
   "metadata": {},
   "outputs": [
    {
     "name": "stdout",
     "output_type": "stream",
     "text": [
      "501\n"
     ]
    }
   ],
   "source": [
    "def f(n):\n",
    "    if n == 0:\n",
    "        return 1\n",
    "    else:\n",
    "        return f(n-1) + 100\n",
    "print(f(5))"
   ]
  },
  {
   "cell_type": "markdown",
   "metadata": {},
   "source": [
    "### Q61\n",
    "**The Fibonacci Sequence is computed based on the following formula:**\n",
    "\n",
    "- f(n)=0 if n=0\n",
    "- f(n)=1 if n=1\n",
    "- f(n)=f(n-1)+f(n-2) if n>1\n",
    "\n",
    "Please write a program to compute the value of f(n) with a given n input by console.\n",
    "\n",
    "Example: If the following n is given as input to the program:\n",
    "\n",
    "- 7\n",
    "\n",
    "Then, the output of the program should be:\n",
    "\n",
    "- 13"
   ]
  },
  {
   "cell_type": "code",
   "execution_count": 8,
   "metadata": {},
   "outputs": [
    {
     "name": "stdout",
     "output_type": "stream",
     "text": [
      "13\n"
     ]
    }
   ],
   "source": [
    "def fib(n):\n",
    "    if n == 0:\n",
    "        return 0\n",
    "    if n == 1:\n",
    "        return 1\n",
    "    return fib(n-1) + fib(n-2)\n",
    "print(fib(7))"
   ]
  },
  {
   "cell_type": "markdown",
   "metadata": {},
   "source": [
    "### Q62\n",
    "**The Fibonacci Sequence is computed based on the following formula:**\n",
    "\n",
    "- f(n)=0 if n=0\n",
    "- f(n)=1 if n=1\n",
    "- f(n)=f(n-1)+f(n-2) if n>1\n",
    "\n",
    "Please write a program to compute the value of f(n) with a given n input by console.\n",
    "\n",
    "Example: If the following n is given as input to the program:\n",
    "\n",
    "- 7\n",
    "\n",
    "Then, the output of the program should be:\n",
    "\n",
    "- 0,1,1,2,3,5,8,13"
   ]
  },
  {
   "cell_type": "code",
   "execution_count": 17,
   "metadata": {},
   "outputs": [
    {
     "name": "stdout",
     "output_type": "stream",
     "text": [
      "0,1,1,2,3,5,8,13,"
     ]
    }
   ],
   "source": [
    "def fib(n):\n",
    "    if n < 2:\n",
    "        return n\n",
    "    return fib(n-1) + fib(n-2)\n",
    "# fib_n = [fib(n) for n in range(8)]\n",
    "for i in range(8):\n",
    "    print(fib(i),end=',')"
   ]
  },
  {
   "cell_type": "markdown",
   "metadata": {},
   "source": [
    "### Q63\n",
    "**Please write a program using generator to print the even numbers between 0 and n in comma separated form while n is input by console.**\n",
    "\n",
    "Example: If the following n is given as input to the program:\n",
    "\n",
    "- 10\n",
    "\n",
    "Then, the output of the program should be:\n",
    "\n",
    "- 0,2,4,6,8,10"
   ]
  },
  {
   "cell_type": "code",
   "execution_count": 32,
   "metadata": {},
   "outputs": [
    {
     "name": "stdout",
     "output_type": "stream",
     "text": [
      "enter a number:10\n",
      "0,2,4,6,8,10\n"
     ]
    }
   ],
   "source": [
    "n = int(input(\"enter a number:\"))\n",
    "def even_g (n):\n",
    "    i = 0\n",
    "    while i <= n:\n",
    "        if i%2 == 0:\n",
    "            yield i\n",
    "        i += 1\n",
    "values = []\n",
    "for i in even_g(n):\n",
    "    values.append(str(i))\n",
    "print(','.join(values))"
   ]
  },
  {
   "cell_type": "markdown",
   "metadata": {},
   "source": [
    "### Q64\n",
    "**Please write a program using generator to print the numbers which can be divisible by 5 and 7 between 0 and n in comma separated form while n is input by console.**\n",
    "\n",
    "Example: If the following n is given as input to the program:\n",
    "\n",
    "- 100\n",
    "\n",
    "Then, the output of the program should be:\n",
    "\n",
    "- 0,35,70"
   ]
  },
  {
   "cell_type": "code",
   "execution_count": 33,
   "metadata": {},
   "outputs": [
    {
     "name": "stdout",
     "output_type": "stream",
     "text": [
      "enter a number:100\n",
      "0,35,70\n"
     ]
    }
   ],
   "source": [
    "n = int(input(\"enter a number:\"))\n",
    "def div_g (n):\n",
    "    i = 0\n",
    "    while i <= n:\n",
    "        if i%5 == 0 and i%7 == 0:\n",
    "            yield i\n",
    "        i += 1\n",
    "values = []\n",
    "for i in div_g(n):\n",
    "    values.append(str(i))\n",
    "print(','.join(values))"
   ]
  },
  {
   "cell_type": "code",
   "execution_count": null,
   "metadata": {},
   "outputs": [],
   "source": []
  }
 ],
 "metadata": {
  "kernelspec": {
   "display_name": "Python 3",
   "language": "python",
   "name": "python3"
  },
  "language_info": {
   "codemirror_mode": {
    "name": "ipython",
    "version": 3
   },
   "file_extension": ".py",
   "mimetype": "text/x-python",
   "name": "python",
   "nbconvert_exporter": "python",
   "pygments_lexer": "ipython3",
   "version": "3.7.0"
  }
 },
 "nbformat": 4,
 "nbformat_minor": 2
}
