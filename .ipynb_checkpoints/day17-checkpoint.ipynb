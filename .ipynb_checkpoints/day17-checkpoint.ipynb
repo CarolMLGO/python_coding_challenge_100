{
 "cells": [
  {
   "cell_type": "markdown",
   "metadata": {},
   "source": [
    "## day 16: 11-28-2019 Q65 - Q69\n",
    "\n",
    "### Q65\n",
    "**Please write assert statements to verify that every number in the list [2,4,6,8] is even.**"
   ]
  },
  {
   "cell_type": "code",
   "execution_count": 15,
   "metadata": {},
   "outputs": [],
   "source": [
    "lst = [2,4,6,8]\n",
    "for i in lst:\n",
    "    assert i%2==0, \"not an even number\"  "
   ]
  },
  {
   "cell_type": "markdown",
   "metadata": {},
   "source": [
    "### Q66\n",
    "**Please write a program which accepts basic mathematic expression from console and print the evaluation result.**\n",
    "\n",
    "Example: If the following n is given as input to the program:\n",
    "\n",
    "- 35 + 3\n",
    "\n",
    "Then, the output of the program should be:\n",
    "\n",
    "- 38"
   ]
  },
  {
   "cell_type": "code",
   "execution_count": 29,
   "metadata": {},
   "outputs": [
    {
     "name": "stdout",
     "output_type": "stream",
     "text": [
      "enter mathematic expression:4/6\n",
      "0.6666666666666666\n"
     ]
    }
   ],
   "source": [
    "import re\n",
    "\n",
    "ex = input('enter mathematic expression:')\n",
    "ex_num = re.findall(\"\\d+\",ex)\n",
    "# print(ex_num)\n",
    "if \"+\" in ex:\n",
    "    print(int(ex_num[0])+int(ex_num[1]))\n",
    "elif \"-\" in ex:\n",
    "    print(int(ex_num[0])-int(ex_num[1]))\n",
    "elif \"*\" in ex:\n",
    "    print(int(ex_num[0])*int(ex_num[1]))\n",
    "elif \"/\" in ex:\n",
    "    print(int(ex_num[0])/int(ex_num[1]))\n",
    "else:\n",
    "    print(\"something went wrong, input the correct expression\")"
   ]
  },
  {
   "cell_type": "code",
   "execution_count": 30,
   "metadata": {},
   "outputs": [
    {
     "name": "stdout",
     "output_type": "stream",
     "text": [
      "4*5+5\n",
      "25\n"
     ]
    }
   ],
   "source": [
    "ex = input()\n",
    "print(eval(ex))"
   ]
  },
  {
   "cell_type": "markdown",
   "metadata": {},
   "source": [
    "### Q67\n",
    "**Please write a binary search function which searches an item in a sorted list. The function should return the index of element to be searched in the list.**"
   ]
  },
  {
   "cell_type": "code",
   "execution_count": 45,
   "metadata": {},
   "outputs": [
    {
     "data": {
      "text/plain": [
       "12"
      ]
     },
     "execution_count": 45,
     "metadata": {},
     "output_type": "execute_result"
    }
   ],
   "source": [
    "lst= [0,1,2,3,4,5,6,7,8,9,10,23,6436,453435]\n",
    "item = 6436\n",
    "l = len(lst)\n",
    "\n",
    "def binary_search(item,lst):\n",
    "    lower,upper = 0, l-1\n",
    "    while lower <= upper:\n",
    "        middle = (lower + upper) // 2\n",
    "        if item < lst[middle]:\n",
    "            upper = middle\n",
    "        elif item > lst[middle]:\n",
    "            lower = middle\n",
    "        else:\n",
    "            return middle\n",
    "    return None\n",
    "            \n",
    "\n",
    "binary_search(item,lst)"
   ]
  },
  {
   "cell_type": "markdown",
   "metadata": {},
   "source": [
    "### Q68\n",
    "**Please generate a random float where the value is between 10 and 100 using Python module.**"
   ]
  },
  {
   "cell_type": "code",
   "execution_count": 32,
   "metadata": {},
   "outputs": [
    {
     "data": {
      "text/plain": [
       "16.319771646672308"
      ]
     },
     "execution_count": 32,
     "metadata": {},
     "output_type": "execute_result"
    }
   ],
   "source": [
    "import random\n",
    "random.uniform(10, 100)"
   ]
  },
  {
   "cell_type": "markdown",
   "metadata": {},
   "source": [
    "### Q69\n",
    "**Please generate a random float where the value is between 5 and 95 using Python module.**"
   ]
  },
  {
   "cell_type": "code",
   "execution_count": 33,
   "metadata": {},
   "outputs": [
    {
     "data": {
      "text/plain": [
       "91.83269782236235"
      ]
     },
     "execution_count": 33,
     "metadata": {},
     "output_type": "execute_result"
    }
   ],
   "source": [
    "import random\n",
    "random.uniform(5,95)"
   ]
  },
  {
   "cell_type": "code",
   "execution_count": null,
   "metadata": {},
   "outputs": [],
   "source": []
  }
 ],
 "metadata": {
  "kernelspec": {
   "display_name": "Python 3",
   "language": "python",
   "name": "python3"
  },
  "language_info": {
   "codemirror_mode": {
    "name": "ipython",
    "version": 3
   },
   "file_extension": ".py",
   "mimetype": "text/x-python",
   "name": "python",
   "nbconvert_exporter": "python",
   "pygments_lexer": "ipython3",
   "version": "3.7.0"
  }
 },
 "nbformat": 4,
 "nbformat_minor": 2
}
