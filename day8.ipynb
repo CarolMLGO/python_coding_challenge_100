{
 "cells": [
  {
   "cell_type": "markdown",
   "metadata": {},
   "source": [
    "## day 8: 11-19-2019 Q22 - 25\n",
    "\n",
    "### Q22\n",
    "\n",
    "**Write a program to compute the frequency of the words from the input. The output should output after sorting the key alphanumerically.**\n",
    "\n",
    "Suppose the following input is supplied to the program:\n",
    "\n",
    "- New to Python or choosing between Python 2 and Python 3? Read Python 2 or Python 3.\n",
    "\n",
    "Then, the output should be:\n",
    "\n",
    "- 2:2\n",
    "- 3.:1\n",
    "- 3?:1\n",
    "- New:1\n",
    "- Python:5\n",
    "- Read:1\n",
    "- and:1\n",
    "- between:1\n",
    "- choosing:1\n",
    "- or:2\n",
    "- to:1"
   ]
  },
  {
   "cell_type": "code",
   "execution_count": 16,
   "metadata": {},
   "outputs": [
    {
     "name": "stdout",
     "output_type": "stream",
     "text": [
      "New to Python or choosing between Python 2 and Python 3? Read Python 2 or Python 3.\n",
      "2:2\n",
      "3.:1\n",
      "3?:1\n",
      "New:1\n",
      "Python:5\n",
      "Read:1\n",
      "and:1\n",
      "between:1\n",
      "choosing:1\n",
      "or:2\n",
      "to:1\n"
     ]
    }
   ],
   "source": [
    "s = input().split()\n",
    "\n",
    "from collections import Counter\n",
    "s_counter = Counter(s) # returns key & frequency as a dictionary\n",
    "s_sort = sorted(s_counter.items())\n",
    "\n",
    "for item in s_sort:\n",
    "    print(f\"{item[0]}:{item[1]}\")"
   ]
  },
  {
   "cell_type": "code",
   "execution_count": 17,
   "metadata": {},
   "outputs": [
    {
     "name": "stdout",
     "output_type": "stream",
     "text": [
      "New to Python or choosing between Python 2 and Python 3? Read Python 2 or Python 3.\n",
      "2:2\n",
      "3.:1\n",
      "3?:1\n",
      "New:1\n",
      "Python:5\n",
      "Read:1\n",
      "and:1\n",
      "between:1\n",
      "choosing:1\n",
      "or:2\n",
      "to:1\n"
     ]
    }
   ],
   "source": [
    "s = input().split()\n",
    "words = sorted(set(s))     # split words are stored and sorted as a set\n",
    "\n",
    "for word in words:\n",
    "    print(f\"{word}:{s.count(word)}\")"
   ]
  },
  {
   "cell_type": "markdown",
   "metadata": {},
   "source": [
    "### Q23\n",
    "\n",
    "**Write a method which can calculate square value of number**"
   ]
  },
  {
   "cell_type": "code",
   "execution_count": 18,
   "metadata": {},
   "outputs": [],
   "source": [
    "def square(num):\n",
    "    return num**2"
   ]
  },
  {
   "cell_type": "markdown",
   "metadata": {},
   "source": [
    "### Q24\n",
    "\n",
    "**Python has many built-in functions, and if you do not know how to use it, you can read document online or find some books. But Python has a built-in document function for every built-in functions.**\n",
    "\n",
    "Please write a program to print some Python built-in functions documents, such as abs(), int(), raw_input()\n",
    "\n",
    "And add document for your own function\n",
    "\n",
    "Hints:\n",
    "The built-in document method is __doc__"
   ]
  },
  {
   "cell_type": "code",
   "execution_count": 30,
   "metadata": {},
   "outputs": [
    {
     "name": "stdout",
     "output_type": "stream",
     "text": [
      "\n",
      "    return the square of an input number\n",
      "    \n"
     ]
    }
   ],
   "source": [
    "# print(abs.__doc__)\n",
    "# print(int.__doc__)\n",
    "# print(input.__doc__)\n",
    "\n",
    "def square(num):\n",
    "    \"\"\"\n",
    "    return the square of an input number\n",
    "    \"\"\"\n",
    "    return num**2\n",
    "print(square.__doc__)"
   ]
  },
  {
   "cell_type": "markdown",
   "metadata": {},
   "source": [
    "### Q25\n",
    "\n",
    "**Define a class, which have a class parameter and have a same instance parameter.**\n"
   ]
  },
  {
   "cell_type": "code",
   "execution_count": 21,
   "metadata": {},
   "outputs": [
    {
     "name": "stdout",
     "output_type": "stream",
     "text": [
      "Person's name is Carol'\n"
     ]
    }
   ],
   "source": [
    "class People:\n",
    "    p = \"Person\"\n",
    "    def __init__(self, p):\n",
    "        self.p = p\n",
    "\n",
    "Carol = People(\"Carol\")\n",
    "print(f\"{People.p}'s name is {Carol.p}'\")"
   ]
  }
 ],
 "metadata": {
  "kernelspec": {
   "display_name": "Python 3",
   "language": "python",
   "name": "python3"
  },
  "language_info": {
   "codemirror_mode": {
    "name": "ipython",
    "version": 3
   },
   "file_extension": ".py",
   "mimetype": "text/x-python",
   "name": "python",
   "nbconvert_exporter": "python",
   "pygments_lexer": "ipython3",
   "version": "3.7.0"
  }
 },
 "nbformat": 4,
 "nbformat_minor": 2
}
