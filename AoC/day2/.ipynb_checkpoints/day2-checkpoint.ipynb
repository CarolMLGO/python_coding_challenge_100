{
 "cells": [
  {
   "cell_type": "markdown",
   "metadata": {},
   "source": [
    "## Day 2: 1202 Program Alarm\n",
    "\n",
    "### Part one\n",
    "\n",
    "On the way to your gravity assist around the Moon, your ship computer beeps angrily about a \"1202 program alarm\". On the radio, an Elf is already explaining how to handle the situation: \"Don't worry, that's perfectly norma--\" The ship computer bursts into flames.\n",
    "\n",
    "You notify the Elves that the computer's magic smoke seems to have escaped. \"That computer ran Intcode programs like the gravity assist program it was working on; surely there are enough spare parts up there to build a new Intcode computer!\"\n",
    "\n",
    "An Intcode program is a list of integers separated by commas (like 1,0,0,3,99). To run one, start by looking at the first integer (called position 0). Here, you will find an opcode - either 1, 2, or 99. The opcode indicates what to do; for example, 99 means that the program is finished and should immediately halt. Encountering an unknown opcode means something went wrong.\n",
    "\n",
    "Opcode 1 adds together numbers read from two positions and stores the result in a third position. The three integers immediately after the opcode tell you these three positions - the first two indicate the positions from which you should read the input values, and the third indicates the position at which the output should be stored.\n",
    "\n",
    "For example, if your Intcode computer encounters 1,10,20,30, it should read the values at positions 10 and 20, add those values, and then overwrite the value at position 30 with their sum.\n",
    "\n",
    "Opcode 2 works exactly like opcode 1, except it multiplies the two inputs instead of adding them. Again, the three integers after the opcode indicate where the inputs and outputs are, not their values.\n",
    "\n",
    "Once you're done processing an opcode, move to the next one by stepping forward 4 positions.\n",
    "\n",
    "For example, suppose you have the following program:\n",
    "\n",
    "- 1,9,10,3,2,3,11,0,99,30,40,50\n",
    "\n",
    "For the purposes of illustration, here is the same program split into multiple lines:\n",
    "\n",
    "- 1,9,10,3,\n",
    "- 2,3,11,0,\n",
    "- 99,\n",
    "- 30,40,50\n",
    "\n",
    "The first four integers, 1,9,10,3, are at positions 0, 1, 2, and 3. Together, they represent the first opcode (1, addition), the positions of the two inputs (9 and 10), and the position of the output (3). To handle this opcode, you first need to get the values at the input positions: position 9 contains 30, and position 10 contains 40. Add these numbers together to get 70. Then, store this value at the output position; here, the output position (3) is at position 3, so it overwrites itself. Afterward, the program looks like this:\n",
    "\n",
    "- 1,9,10,70,\n",
    "- 2,3,11,0,\n",
    "- 99,\n",
    "- 30,40,50\n",
    "\n",
    "Step forward 4 positions to reach the next opcode, 2. This opcode works just like the previous, but it multiplies instead of adding. The inputs are at positions 3 and 11; these positions contain 70 and 50 respectively. Multiplying these produces 3500; this is stored at position 0:\n",
    "\n",
    "- 3500,9,10,70,\n",
    "- 2,3,11,0,\n",
    "- 99,\n",
    "- 30,40,50\n",
    "\n",
    "Stepping forward 4 more positions arrives at opcode 99, halting the program.\n",
    "\n",
    "Here are the initial and final states of a few more small programs:\n",
    "\n",
    "- 1,0,0,0,99 becomes 2,0,0,0,99 (1 + 1 = 2).\n",
    "- 2,3,0,3,99 becomes 2,3,0,6,99 (3 * 2 = 6).\n",
    "- 2,4,4,5,99,0 becomes 2,4,4,5,99,9801 (99 * 99 = 9801).\n",
    "- 1,1,1,4,99,5,6,0,99 becomes 30,1,1,4,2,5,6,0,99.\n",
    "\n",
    "Once you have a working computer, the first step is to restore the gravity assist program (your puzzle input) to the \"1202 program alarm\" state it had just before the last computer caught fire. To do this, before running the program, replace position 1 with the value 12 and replace position 2 with the value 2. \n",
    "\n",
    "**What value is left at position 0 after the program halts?**"
   ]
  },
  {
   "cell_type": "code",
   "execution_count": 55,
   "metadata": {},
   "outputs": [],
   "source": [
    "# reading txt files\n",
    "with open(\"input.txt\",\"r\") as f:\n",
    "    program = f.read()\n",
    "# #convert each data point into an integer and get rid of the \",\"\n",
    "program = program.split(',')\n",
    "program = [int(i) for i in program]"
   ]
  },
  {
   "cell_type": "code",
   "execution_count": 56,
   "metadata": {},
   "outputs": [],
   "source": [
    "# restore to \"1202 program\", replace poistion 1 with 12, replace position 2 with 2\n",
    "program[1]=12\n",
    "program[2]=2"
   ]
  },
  {
   "cell_type": "code",
   "execution_count": 63,
   "metadata": {},
   "outputs": [
    {
     "name": "stdout",
     "output_type": "stream",
     "text": [
      "[1, 12, 2, 3, 1, 1, 2, 3, 1, 3, 4, 3, 1, 5, 0, 3, 2, 1, 9, 19, 1, 19, 5, 23, 2, 23, 13, 27, 1, 10, 27, 31, 2, 31, 6, 35, 1, 5, 35, 39, 1, 39, 10, 43, 2, 9, 43, 47, 1, 47, 5, 51, 2, 51, 9, 55, 1, 13, 55, 59, 1, 13, 59, 63, 1, 6, 63, 67, 2, 13, 67, 71, 1, 10, 71, 75, 2, 13, 75, 79, 1, 5, 79, 83, 2, 83, 9, 87, 2, 87, 13, 91, 1, 91, 5, 95, 2, 9, 95, 99, 1, 99, 5, 103, 1, 2, 103, 107, 1, 10, 107, 0, 99, 2, 14, 0, 0]\n"
     ]
    }
   ],
   "source": [
    "input_p = program.copy() # make a copy of the program list\n",
    "print(input_p)"
   ]
  },
  {
   "cell_type": "code",
   "execution_count": 87,
   "metadata": {},
   "outputs": [],
   "source": [
    "# start processing opcodes\n",
    "def processor(p):\n",
    "    for step in range(len(p)//4): # 4 positions each step\n",
    "#         print(step)\n",
    "        p1 = p[step*4+1] #position 1\n",
    "        p2 = p[step*4+2] #position 2\n",
    "        p3 = p[step*4+3] # position 3\n",
    "        if p[step*4] == 1: # first interger \n",
    "            p[p3] = p[p1]+p[p2] # do addition if first integer == 1\n",
    "        elif p[step*4] == 2:\n",
    "            p[p3] = p[p1]*p[p2] # do multiplication if first integer == 2\n",
    "        else:\n",
    "            break #  if first integer == 99\n",
    "    return p[0]\n"
   ]
  },
  {
   "cell_type": "code",
   "execution_count": 88,
   "metadata": {},
   "outputs": [
    {
     "name": "stdout",
     "output_type": "stream",
     "text": [
      "3895705\n"
     ]
    }
   ],
   "source": [
    "result = processor(input_p)\n",
    "print(result)"
   ]
  },
  {
   "cell_type": "markdown",
   "metadata": {},
   "source": [
    "### Part Two\n",
    "\n",
    "\"Good, the new computer seems to be working correctly! Keep it nearby during this mission - you'll probably use it again. Real Intcode computers support many more features than your new one, but we'll let you know what they are as you need them.\"\n",
    "\n",
    "\"However, your current priority should be to complete your gravity assist around the Moon. For this mission to succeed, we should settle on some terminology for the parts you've already built.\"\n",
    "\n",
    "Intcode programs are given as a list of integers; these values are used as the initial state for the computer's memory. When you run an Intcode program, make sure to start by initializing memory to the program's values. A position in memory is called an address (for example, the first value in memory is at \"address 0\").\n",
    "\n",
    "Opcodes (like 1, 2, or 99) mark the beginning of an instruction. The values used immediately after an opcode, if any, are called the instruction's parameters. For example, in the instruction 1,2,3,4, 1 is the opcode; 2, 3, and 4 are the parameters. The instruction 99 contains only an opcode and has no parameters.\n",
    "\n",
    "The address of the current instruction is called the instruction pointer; it starts at 0. After an instruction finishes, the instruction pointer increases by the number of values in the instruction; until you add more instructions to the computer, this is always 4 (1 opcode + 3 parameters) for the add and multiply instructions. (The halt instruction would increase the instruction pointer by 1, but it halts the program instead.)\n",
    "\n",
    "\"With terminology out of the way, we're ready to proceed. To complete the gravity assist, you need to determine what pair of inputs produces the output 19690720.\"\n",
    "\n",
    "The inputs should still be provided to the program by replacing the values at addresses 1 and 2, just like before. In this program, the value placed in address 1 is called the noun, and the value placed in address 2 is called the verb. Each of the two input values will be between 0 and 99, inclusive.\n",
    "\n",
    "Once the program has halted, its output is available at address 0, also just like before. Each time you try a pair of inputs, make sure you first reset the computer's memory to the values in the program (your puzzle input) - in other words, don't reuse memory from a previous attempt.\n",
    "\n",
    "**Find the input noun and verb that cause the program to produce the output 19690720. What is 100 * noun + verb? (For example, if noun=12 and verb=2, the answer would be 1202.)**"
   ]
  },
  {
   "cell_type": "code",
   "execution_count": 129,
   "metadata": {},
   "outputs": [],
   "source": [
    "def processor_2(program,output_check):\n",
    "    output = program[0] # set the inital value of the value @ address 0\n",
    "    # loop through values addresses 1 and 2\n",
    "    for a1 in range(100): \n",
    "        for a2 in range(100):\n",
    "            init_p = program.copy() # use this to initialize input data\n",
    "            # replace values\n",
    "            init_p[1] = a1\n",
    "            init_p[2] = a2\n",
    "            # # after the program halt,it did not stop the loop, a2 still increases by 1 to check if output is correct\n",
    "            if output == output_check:\n",
    "                return a1, a2-1\n",
    "            output = processor(init_p) # reuse the funciton defined in part 1                  "
   ]
  },
  {
   "cell_type": "code",
   "execution_count": 130,
   "metadata": {},
   "outputs": [],
   "source": [
    "output_check = 19690720"
   ]
  },
  {
   "cell_type": "code",
   "execution_count": 131,
   "metadata": {},
   "outputs": [],
   "source": [
    "noun, verb = processor_2(program,output_check)"
   ]
  },
  {
   "cell_type": "code",
   "execution_count": 132,
   "metadata": {},
   "outputs": [
    {
     "name": "stdout",
     "output_type": "stream",
     "text": [
      "6417\n"
     ]
    }
   ],
   "source": [
    "print(100*noun+verb)"
   ]
  },
  {
   "cell_type": "code",
   "execution_count": null,
   "metadata": {},
   "outputs": [],
   "source": []
  }
 ],
 "metadata": {
  "kernelspec": {
   "display_name": "Python 3",
   "language": "python",
   "name": "python3"
  },
  "language_info": {
   "codemirror_mode": {
    "name": "ipython",
    "version": 3
   },
   "file_extension": ".py",
   "mimetype": "text/x-python",
   "name": "python",
   "nbconvert_exporter": "python",
   "pygments_lexer": "ipython3",
   "version": "3.7.0"
  }
 },
 "nbformat": 4,
 "nbformat_minor": 2
}
