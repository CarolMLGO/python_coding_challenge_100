{
 "cells": [
  {
   "cell_type": "markdown",
   "metadata": {},
   "source": [
    "## Day 3: Crossed Wires\n",
    "\n",
    "### Part one\n",
    "\n",
    "The gravity assist was successful, and you're well on your way to the Venus refuelling station. During the rush back on Earth, the fuel management system wasn't completely installed, so that's next on the priority list.\n",
    "\n",
    "Opening the front panel reveals a jumble of wires. Specifically, two wires are connected to a central port and extend outward on a grid. You trace the path each wire takes as it leaves the central port, one wire per line of text (your puzzle input).\n",
    "\n",
    "The wires twist and turn, but the two wires occasionally cross paths. To fix the circuit, you need to find the intersection point closest to the central port. Because the wires are on a grid, use the Manhattan distance for this measurement. While the wires do technically cross right at the central port where they both start, this point does not count, nor does a wire count as crossing with itself.\n",
    "\n",
    "For example, if the first wire's path is R8,U5,L5,D3, then starting from the central port (o), it goes right 8, up 5, left 5, and finally down 3:\n",
    "\n",
    "`...........`     \n",
    "`...........`     \n",
    "`...........`  \n",
    "`....+----+.`    \n",
    "`....|....|.`  \n",
    "`....|....|.`  \n",
    "`....|....|.`  \n",
    "`.........|.`  \n",
    "`.o-------+.`  \n",
    "`...........`  \n",
    "\n",
    "Then, if the second wire's path is U7,R6,D4,L4, it goes up 7, right 6, down 4, and left 4:\n",
    "\n",
    "`...........`<br>\n",
    "`.+-----+...`<br>\n",
    "`.|.....|...`<br>\n",
    "`.|..+--X-+.`<br>\n",
    "`.|..|..|.|.`<br>\n",
    "`.|.-X--+.|.`<br>\n",
    "`.|..|....|.`<br>\n",
    "`.|.......|.`<br>\n",
    "`.o-------+.`<br>\n",
    "`...........`<br>\n",
    "\n",
    "These wires cross at two locations (marked X), but the lower-left one is closer to the central port: its distance is 3 + 3 = 6.\n",
    "\n",
    "Here are a few more examples:\n",
    "\n",
    "- R75,D30,R83,U83,L12,D49,R71,U7,L72  \n",
    "  U62,R66,U55,R34,D71,R55,D58,R83 = distance 159\n",
    "- R98,U47,R26,D63,R33,U87,L62,D20,R33,U53,R51  \n",
    "  U98,R91,D20,R16,D67,R40,U7,R15,U6,R7 = distance 135\n",
    "\n",
    "**What is the Manhattan distance from the central port to the closest intersection?**"
   ]
  },
  {
   "cell_type": "code",
   "execution_count": 186,
   "metadata": {},
   "outputs": [],
   "source": [
    "import re\n",
    "\n",
    "# reading txt files\n",
    "with open(\"day3.txt\",\"r\") as f:\n",
    "    wires = f.read()\n",
    "# convert data into a list, and separate keyword and digits using regular expression\n",
    "wires = wires.split('\\n')\n",
    "def data_conversion(wires):\n",
    "    for i,w in enumerate(wires):\n",
    "        wires[i] = re.findall('([A-Z]{1,1})(\\d+)',w)\n",
    "    return wires\n",
    "\n",
    "wires = data_conversion(wires)\n",
    "# print(wires)"
   ]
  },
  {
   "cell_type": "code",
   "execution_count": 187,
   "metadata": {},
   "outputs": [],
   "source": [
    "def find_intersects(wires):\n",
    "    # define variables\n",
    "    points_w1_w2={\"w1\":[],\"w2\":[]}\n",
    "    intersects=[]\n",
    "    # loop through all the commands\n",
    "    for i,w in enumerate(wires):\n",
    "        key = \"w1\" if i == 0 else \"w2\"\n",
    "        x=0\n",
    "        y=0\n",
    "        points = []\n",
    "        for c in w:\n",
    "            keyword = c[0]\n",
    "            digits = c[1]\n",
    "            # determine the keyword and what the action will be, used for eval() to evaluate the mathematical expression\n",
    "            if keyword == \"R\":\n",
    "                action = \"x+\"\n",
    "            elif keyword == \"L\":\n",
    "                action = \"x-\"\n",
    "            elif keyword == \"U\":\n",
    "                action = \"y+\"\n",
    "            else:\n",
    "                action = \"y-\"\n",
    "            # loop through digits and record all the datapoints it passed\n",
    "            for i in range(1,int(digits)+1):\n",
    "                if \"x\" in action:\n",
    "                    x = eval(action+str(1))\n",
    "                elif \"y\" in action:\n",
    "                    y = eval(action+str(1))\n",
    "                points.append([x,y])\n",
    "        points_w1_w2[key] = points\n",
    "\n",
    "    # after find all the point in wire1 and wire2, now we move on to find the intersections\n",
    "    points_w1 = set(tuple(i) for i in points_w1_w2[\"w1\"])\n",
    "    points_w2 = set(tuple(i) for i in points_w1_w2[\"w2\"])\n",
    "    intersects = list(points_w1.intersection(points_w2))\n",
    "    return intersects\n",
    "    "
   ]
  },
  {
   "cell_type": "code",
   "execution_count": 220,
   "metadata": {},
   "outputs": [],
   "source": [
    "#find Manhattan distance for each intersect and return the smallest one\n",
    "def Manhattan_distance(lst):\n",
    "    d = []\n",
    "    for i,item in enumerate(lst):\n",
    "        d.append(abs(item[0])+abs(item[1]))\n",
    "    return min(d)"
   ]
  },
  {
   "cell_type": "code",
   "execution_count": 224,
   "metadata": {},
   "outputs": [],
   "source": [
    "def part1(data):\n",
    "    lst = find_intersects(data)\n",
    "#     print(lst)\n",
    "    return Manhattan_distance(lst)"
   ]
  },
  {
   "cell_type": "markdown",
   "metadata": {},
   "source": [
    "#### the answer for part 1"
   ]
  },
  {
   "cell_type": "code",
   "execution_count": 225,
   "metadata": {},
   "outputs": [
    {
     "data": {
      "text/plain": [
       "1983"
      ]
     },
     "execution_count": 225,
     "metadata": {},
     "output_type": "execute_result"
    }
   ],
   "source": [
    "part1(wires)"
   ]
  },
  {
   "cell_type": "markdown",
   "metadata": {},
   "source": [
    "#### visualization and a different way to code"
   ]
  },
  {
   "cell_type": "code",
   "execution_count": 190,
   "metadata": {},
   "outputs": [],
   "source": [
    "# to visualize\n",
    "def find_coordinates(wire):\n",
    "    x=0\n",
    "    y=0\n",
    "    points = []\n",
    "    for c in wire:\n",
    "        keyword = c[0]\n",
    "        digits = int(c[1])\n",
    "        if keyword == \"R\":\n",
    "            # loop through digits and record all the datapoints it passed\n",
    "            for d in range(1,digits+1):\n",
    "                x = x + 1\n",
    "                points.append([x,y])\n",
    "        elif keyword == \"L\":\n",
    "            for d in range(1,digits+1):\n",
    "                x = x - 1\n",
    "                points.append([x,y])\n",
    "        elif keyword == \"U\":\n",
    "            for d in range(1,digits+1):\n",
    "                y = y + 1\n",
    "                points.append([x,y])\n",
    "        else:\n",
    "            for d in range(1,digits+1):\n",
    "                y = y - 1\n",
    "                points.append([x,y])\n",
    "        \n",
    "    return points"
   ]
  },
  {
   "cell_type": "code",
   "execution_count": 249,
   "metadata": {},
   "outputs": [
    {
     "data": {
      "text/plain": [
       "<matplotlib.legend.Legend at 0x1a2d34f3e10>"
      ]
     },
     "execution_count": 249,
     "metadata": {},
     "output_type": "execute_result"
    },
    {
     "data": {
      "image/png": "[encoded data removed]",
      "text/plain": [
       "<Figure size 432x288 with 1 Axes>"
      ]
     },
     "metadata": {
      "needs_background": "light"
     },
     "output_type": "display_data"
    }
   ],
   "source": [
    "# testing\n",
    "test = data_conversion([\"R8,U5,L5,D3\",\"U7,R6,D4,L4\"])\n",
    "points_1 = find_coordinates(test[0])\n",
    "points_2 = find_coordinates(test[1])\n",
    "# print(points_1)\n",
    "# print(*points_1)\n",
    "points_1_set = set(tuple(i) for i in points_1)\n",
    "points_2_set = set(tuple(i) for i in points_2)\n",
    "intersects_test = list(points_1_set.intersection(points_2_set))\n",
    "import matplotlib.pyplot as plt\n",
    "x1, y1 = zip(*points_1)\n",
    "x2, y2 = zip(*points_2)\n",
    "plt.plot(x1,y1,label=\"wire 1\")\n",
    "plt.plot(x2,y2,label=\"wire 2\")\n",
    "plt.xlabel(\"x\")\n",
    "plt.ylabel(\"y\")\n",
    "plt.legend()"
   ]
  },
  {
   "cell_type": "code",
   "execution_count": 217,
   "metadata": {},
   "outputs": [
    {
     "data": {
      "text/plain": [
       "<matplotlib.legend.Legend at 0x1a2a87bb240>"
      ]
     },
     "execution_count": 217,
     "metadata": {},
     "output_type": "execute_result"
    },
    {
     "data": {
      "image/png": "[encoded data removed]",
      "text/plain": [
       "<Figure size 432x288 with 1 Axes>"
      ]
     },
     "metadata": {
      "needs_background": "light"
     },
     "output_type": "display_data"
    }
   ],
   "source": [
    "# real data ing...\n",
    "points_w1 = find_coordinates(wires[0])\n",
    "points_w2 = find_coordinates(wires[1])\n",
    "# print(points_1)\n",
    "# print(*points_1)\n",
    "import matplotlib.pyplot as plt\n",
    "x_w1, y_w1 = zip(*points_w1)\n",
    "x_w2, y_w2 = zip(*points_w2)\n",
    "plt.plot(x_w1,y_w1,label=\"wire 1\")\n",
    "plt.plot(x_w2,y_w2,label=\"wire 2\")\n",
    "plt.xlabel(\"x\")\n",
    "plt.ylabel(\"y\")\n",
    "plt.legend()"
   ]
  },
  {
   "cell_type": "code",
   "execution_count": 234,
   "metadata": {},
   "outputs": [
    {
     "data": {
      "text/plain": [
       "1983"
      ]
     },
     "execution_count": 234,
     "metadata": {},
     "output_type": "execute_result"
    }
   ],
   "source": [
    "# after find all the point in wire1 and wire2, now we move on to find the intersections\n",
    "points_w1_set = set(tuple(i) for i in points_w1)\n",
    "points_w2_set = set(tuple(i) for i in points_w2)\n",
    "intersects = list(points_w1_set.intersection(points_w2_set))\n",
    "Manhattan_distance(intersects)"
   ]
  },
  {
   "cell_type": "markdown",
   "metadata": {},
   "source": [
    "### Part Two\n",
    "It turns out that this circuit is very timing-sensitive; you actually need to minimize the signal delay.\n",
    "\n",
    "To do this, calculate the number of steps each wire takes to reach each intersection; choose the intersection where the sum of both wires' steps is lowest. If a wire visits a position on the grid multiple times, use the steps value from the first time it visits that position when calculating the total value of a specific intersection.\n",
    "\n",
    "The number of steps a wire takes is the total number of grid squares the wire has entered to get to that location, including the intersection being considered. Again consider the example from above:\n",
    "\n",
    "`...........`  \n",
    "`.+-----+...`  \n",
    "`.|.....|...`  \n",
    "`.|..+--X-+.`  \n",
    "`.|..|..|.|.`  \n",
    "`.|.-X--+.|.`  \n",
    "`.|..|....|.`  \n",
    "`.|.......|.`  \n",
    "`.o-------+.`  \n",
    "`...........`  \n",
    "In the above example, the intersection closest to the central port is reached after 8+5+5+2 = 20 steps by the first wire and 7+6+4+3 = 20 steps by the second wire for a total of 20+20 = 40 steps.\n",
    "\n",
    "However, the top-right intersection is better: the first wire takes only 8+5+2 = 15 and the second wire takes only 7+6+2 = 15, a total of 15+15 = 30 steps.\n",
    "\n",
    "Here are the best steps for the extra examples from above:\n",
    "\n",
    "R75,D30,R83,U83,L12,D49,R71,U7,L72  \n",
    "U62,R66,U55,R34,D71,R55,D58,R83 = 610 steps  \n",
    "R98,U47,R26,D63,R33,U87,L62,D20,R33,U53,R51  \n",
    "U98,R91,D20,R16,D67,R40,U7,R15,U6,R7 = 410 steps  \n",
    "**What is the fewest combined steps the wires must take to reach an intersection?**"
   ]
  },
  {
   "cell_type": "code",
   "execution_count": 252,
   "metadata": {},
   "outputs": [],
   "source": [
    "def find_min_steps(points_1,points_2,intersects):\n",
    "    steps_sum=[]\n",
    "    for intersect in intersects:\n",
    "        step1 = 1\n",
    "        step2 = 1\n",
    "        step1 += points_1.index(list(intersect))\n",
    "        step2 += points_2.index(list(intersect))\n",
    "\n",
    "        step_sum = step1+step2\n",
    "        steps_sum.append(step_sum)\n",
    "    return min(steps_sum)"
   ]
  },
  {
   "cell_type": "code",
   "execution_count": 254,
   "metadata": {},
   "outputs": [
    {
     "data": {
      "text/plain": [
       "30"
      ]
     },
     "execution_count": 254,
     "metadata": {},
     "output_type": "execute_result"
    }
   ],
   "source": [
    "find_min_steps(points_1,points_2,intersects_test)"
   ]
  },
  {
   "cell_type": "code",
   "execution_count": 255,
   "metadata": {},
   "outputs": [
    {
     "data": {
      "text/plain": [
       "107754"
      ]
     },
     "execution_count": 255,
     "metadata": {},
     "output_type": "execute_result"
    }
   ],
   "source": [
    "find_min_steps(points_w1,points_w2,intersects)"
   ]
  },
  {
   "cell_type": "code",
   "execution_count": null,
   "metadata": {},
   "outputs": [],
   "source": []
  }
 ],
 "metadata": {
  "kernelspec": {
   "display_name": "Python 3",
   "language": "python",
   "name": "python3"
  },
  "language_info": {
   "codemirror_mode": {
    "name": "ipython",
    "version": 3
   },
   "file_extension": ".py",
   "mimetype": "text/x-python",
   "name": "python",
   "nbconvert_exporter": "python",
   "pygments_lexer": "ipython3",
   "version": "3.7.0"
  }
 },
 "nbformat": 4,
 "nbformat_minor": 2
}
