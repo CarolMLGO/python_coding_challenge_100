{
 "cells": [
  {
   "cell_type": "markdown",
   "metadata": {},
   "source": [
    "## day 23: 12-20-2019 Q95- Q103\n",
    "\n",
    "### Q95\n",
    "\n",
    "Given the participants' score sheet for your University Sports Day, you are required to find the runner-up score. You are given scores. Store them in a list and find the score of the runner-up.\n",
    "\n",
    "If the following string is given as input to the program:\n",
    "\n",
    "    5\n",
    "    2 3 6 6 5\n",
    "\n",
    "Then, the output of the program should be:\n",
    "\n",
    "    5\n",
    "\n"
   ]
  },
  {
   "cell_type": "code",
   "execution_count": 7,
   "metadata": {},
   "outputs": [
    {
     "name": "stdout",
     "output_type": "stream",
     "text": [
      "5\n",
      "2 3 6 6 5\n",
      "Score of the runner-up is:  5\n"
     ]
    }
   ],
   "source": [
    "n = int(input())\n",
    "arr = map(int, input().split())\n",
    "arr = list(set(arr))\n",
    "arr.sort()\n",
    "print(\"Score of the runner-up is: \",arr[-2])"
   ]
  },
  {
   "cell_type": "markdown",
   "metadata": {},
   "source": [
    "### Q96\n",
    "\n",
    "\n",
    "    You are given a string S and width W. Your task is to wrap the string into a paragraph of width.\n",
    "\n",
    "    If the following string is given as input to the program:\n",
    "\n",
    "    ABCDEFGHIJKLIMNOQRSTUVWXYZ\n",
    "    4\n",
    "\n",
    "    Then, the output of the program should be:\n",
    "\n",
    "    ABCD\n",
    "    EFGH\n",
    "    IJKL\n",
    "    IMNO\n",
    "    QRST\n",
    "    UVWX\n",
    "    YZ\n",
    "\n",
    "\n"
   ]
  },
  {
   "cell_type": "code",
   "execution_count": 8,
   "metadata": {},
   "outputs": [
    {
     "name": "stdout",
     "output_type": "stream",
     "text": [
      "enter strings: ABCDEFGHIJKLIMNOQRSTUVWXYZ\n",
      "enter width: 4\n"
     ]
    }
   ],
   "source": [
    "string = input('enter strings: ')\n",
    "width = int(input('enter width: '))"
   ]
  },
  {
   "cell_type": "code",
   "execution_count": 17,
   "metadata": {},
   "outputs": [
    {
     "name": "stdout",
     "output_type": "stream",
     "text": [
      "ABCD\n",
      "EFGH\n",
      "IJKL\n",
      "IMNO\n",
      "QRST\n",
      "UVWX\n",
      "YZ\n"
     ]
    }
   ],
   "source": [
    "for i in range(len(string)//4+1):\n",
    "    print(string[i*width:i*width+width])"
   ]
  },
  {
   "cell_type": "markdown",
   "metadata": {},
   "source": [
    "### Q97\n",
    "\n",
    "\n",
    "    You are given an integer, N. Your task is to print an alphabet rangoli of size N. (Rangoli is a form of Indian folk art based on creation of patterns.)\n",
    "\n",
    "    Different sizes of alphabet rangoli are shown below:\n",
    "\n",
    "    #size 3\n",
    "\n",
    "    ----c----\n",
    "    --c-b-c--\n",
    "    c-b-a-b-c\n",
    "    --c-b-c--\n",
    "    ----c----\n",
    "\n",
    "    #size 5\n",
    "\n",
    "    --------e--------\n",
    "    ------e-d-e------\n",
    "    ----e-d-c-d-e----\n",
    "    --e-d-c-b-c-d-e--\n",
    "    e-d-c-b-a-b-c-d-e\n",
    "    --e-d-c-b-c-d-e--\n",
    "    ----e-d-c-d-e----\n",
    "    ------e-d-e------\n",
    "    --------e--------\n",
    "\n"
   ]
  },
  {
   "cell_type": "code",
   "execution_count": 64,
   "metadata": {},
   "outputs": [
    {
     "name": "stdout",
     "output_type": "stream",
     "text": [
      "enter a number <= 26: 3\n"
     ]
    }
   ],
   "source": [
    "n = int(input('enter a number <= 26: '))"
   ]
  },
  {
   "cell_type": "code",
   "execution_count": 76,
   "metadata": {},
   "outputs": [],
   "source": [
    "import string\n",
    "def alphabet_rangoli(n):\n",
    "    alph = string.ascii_lowercase\n",
    "    width = 4 * n - 3\n",
    "\n",
    "    ans = []\n",
    "    for i in range(n):\n",
    "        left = '-'.join(alph[n - i - 1:n])\n",
    "        mid = left[-1:0:-1] + left\n",
    "        final = mid.center(width, '-')\n",
    "        ans.append(final)\n",
    "\n",
    "    if len(ans) > 1:\n",
    "        for i in ans[n - 2::-1]:\n",
    "            ans.append(i)\n",
    "    ans = '\\n'.join(ans)\n",
    "    print(ans)"
   ]
  },
  {
   "cell_type": "code",
   "execution_count": 77,
   "metadata": {},
   "outputs": [
    {
     "name": "stdout",
     "output_type": "stream",
     "text": [
      "----c----\n",
      "--c-b-c--\n",
      "c-b-a-b-c\n",
      "--c-b-c--\n",
      "----c----\n"
     ]
    }
   ],
   "source": [
    "alphabet_rangoli(n)"
   ]
  },
  {
   "cell_type": "markdown",
   "metadata": {},
   "source": [
    "### Q98\n",
    "\n",
    "\n",
    "    You are given a date. Your task is to find what the day is on that date.\n",
    "\n",
    "Input\n",
    "\n",
    "    A single line of input containing the space separated month, day and year, respectively, in MM DD YYYY format.\n",
    "\n",
    "    08 05 2015\n",
    "\n",
    "Output\n",
    "\n",
    "    Output the correct day in capital letters.\n",
    "\n",
    "    WEDNESDAY\n",
    "\n"
   ]
  },
  {
   "cell_type": "code",
   "execution_count": 38,
   "metadata": {},
   "outputs": [],
   "source": [
    "from datetime import date,datetime\n",
    "import calendar"
   ]
  },
  {
   "cell_type": "code",
   "execution_count": 52,
   "metadata": {},
   "outputs": [
    {
     "name": "stdout",
     "output_type": "stream",
     "text": [
      "08 05 2015\n"
     ]
    }
   ],
   "source": [
    "month, day, year = map(int, input().split())\n",
    "dd = datetime(year,month,day)"
   ]
  },
  {
   "cell_type": "code",
   "execution_count": 53,
   "metadata": {},
   "outputs": [
    {
     "name": "stdout",
     "output_type": "stream",
     "text": [
      "Wednesday\n"
     ]
    }
   ],
   "source": [
    "print(dd.strftime(\"%A\"))"
   ]
  },
  {
   "cell_type": "markdown",
   "metadata": {},
   "source": [
    "### Q99\n",
    "\n",
    "\n",
    "    Given 2 sets of integers, M and N, print their symmetric difference in ascending order. The term symmetric difference indicates those values that exist in either M or N but do not exist in both.\n",
    "\n",
    "Input\n",
    "\n",
    "    The first line of input contains an integer, M.The second line contains M space-separated integers.The third line contains an integer, N.The fourth line contains N space-separated integers.\n",
    "\n",
    "    4\n",
    "    2 4 5 9\n",
    "    4\n",
    "    2 4 11 12\n",
    "\n",
    "Output\n",
    "\n",
    "    Output the symmetric difference integers in ascending order, one per line.\n",
    "\n",
    "    5\n",
    "    9\n",
    "    11\n",
    "    12\n",
    "\n"
   ]
  },
  {
   "cell_type": "code",
   "execution_count": 56,
   "metadata": {},
   "outputs": [
    {
     "name": "stdout",
     "output_type": "stream",
     "text": [
      "4\n",
      "2 4 5 9\n",
      "4\n",
      "2 4 11 12\n"
     ]
    }
   ],
   "source": [
    "n = int(input())\n",
    "set1 = set(map(int,input().split()))\n",
    "\n",
    "m = int(input())\n",
    "set2 = set(map(int, input().split()))"
   ]
  },
  {
   "cell_type": "code",
   "execution_count": 57,
   "metadata": {},
   "outputs": [
    {
     "name": "stdout",
     "output_type": "stream",
     "text": [
      "5\n",
      "9\n",
      "11\n",
      "12\n"
     ]
    }
   ],
   "source": [
    "ans = list(set1 ^ set2)\n",
    "ans.sort()\n",
    "for i in ans:\n",
    "    print(i)"
   ]
  },
  {
   "cell_type": "markdown",
   "metadata": {},
   "source": [
    "### Q101\n",
    "\n",
    "\n",
    "    You are given a string.Your task is to count the frequency of letters of the string and print the letters in descending order of frequency.\n",
    "\n",
    "    If the following string is given as input to the program:\n",
    "\n",
    "    aabbbccde\n",
    "\n",
    "    Then, the output of the program should be:\n",
    "\n",
    "    b 3\n",
    "    a 2\n",
    "    c 2\n",
    "\n"
   ]
  },
  {
   "cell_type": "code",
   "execution_count": 57,
   "metadata": {},
   "outputs": [
    {
     "name": "stdout",
     "output_type": "stream",
     "text": [
      "aabbbccde\n"
     ]
    }
   ],
   "source": [
    "string = input()"
   ]
  },
  {
   "cell_type": "code",
   "execution_count": 60,
   "metadata": {},
   "outputs": [
    {
     "name": "stdout",
     "output_type": "stream",
     "text": [
      "a 2\n",
      "b 3\n",
      "e 1\n",
      "d 1\n",
      "c 2\n"
     ]
    }
   ],
   "source": [
    "list_s = [s for s in string]\n",
    "set_s = set(list_s)"
   ]
  },
  {
   "cell_type": "code",
   "execution_count": 87,
   "metadata": {},
   "outputs": [],
   "source": [
    "from collections import Counter\n",
    "counted_s = dict(Counter(list_s))\n",
    "dct = sorted(counted_s.items(),key = lambda x: (-x[1]))"
   ]
  },
  {
   "cell_type": "code",
   "execution_count": 88,
   "metadata": {},
   "outputs": [
    {
     "name": "stdout",
     "output_type": "stream",
     "text": [
      "[('b', 3), ('a', 2), ('c', 2)]\n"
     ]
    }
   ],
   "source": [
    "print(dct[:3])"
   ]
  },
  {
   "cell_type": "code",
   "execution_count": 86,
   "metadata": {},
   "outputs": [
    {
     "name": "stdout",
     "output_type": "stream",
     "text": [
      "dict_items([('a', 2), ('b', 3), ('c', 2), ('d', 1), ('e', 1)])\n"
     ]
    }
   ],
   "source": [
    "print(counted_s.items())"
   ]
  },
  {
   "cell_type": "markdown",
   "metadata": {},
   "source": [
    "### Q102\n",
    "\n",
    "\n",
    "\n",
    "    Write a Python program that accepts a string and calculate the number of digits and letters.\n",
    "\n",
    "Input\n",
    "\n",
    "    Hello321Bye360\n",
    "\n",
    "Output\n",
    "\n",
    "    Digit - 6\n",
    "    Letter - 8\n",
    "\n"
   ]
  },
  {
   "cell_type": "code",
   "execution_count": 46,
   "metadata": {},
   "outputs": [
    {
     "name": "stdout",
     "output_type": "stream",
     "text": [
      "Hello321Bye360\n"
     ]
    }
   ],
   "source": [
    "string = input()"
   ]
  },
  {
   "cell_type": "code",
   "execution_count": 56,
   "metadata": {},
   "outputs": [
    {
     "name": "stdout",
     "output_type": "stream",
     "text": [
      "Digit -  6\n",
      "Letter -  8\n"
     ]
    }
   ],
   "source": [
    "digit_n = 0\n",
    "letter_n = 0\n",
    "for s in string:\n",
    "    digit_n += s.isdigit()\n",
    "    letter_n += s.isalpha()\n",
    "print(\"Digit - \",digit_n)\n",
    "print(\"Letter - \",letter_n)\n"
   ]
  },
  {
   "cell_type": "markdown",
   "metadata": {},
   "source": [
    "### Q103\n",
    "\n",
    "\n",
    "    Given a number N.Find Sum of 1 to N Using Recursion\n",
    "\n",
    "Input\n",
    "\n",
    "    5\n",
    "\n",
    "Output\n",
    "\n",
    "    15\n",
    "\n"
   ]
  },
  {
   "cell_type": "code",
   "execution_count": 44,
   "metadata": {},
   "outputs": [],
   "source": [
    "def s(N):\n",
    "    if N <= 1:\n",
    "        return N\n",
    "    else:\n",
    "        return N + s(N-1)\n",
    "    "
   ]
  },
  {
   "cell_type": "code",
   "execution_count": 45,
   "metadata": {},
   "outputs": [
    {
     "name": "stdout",
     "output_type": "stream",
     "text": [
      "15\n"
     ]
    }
   ],
   "source": [
    "print(s(5))"
   ]
  },
  {
   "cell_type": "code",
   "execution_count": null,
   "metadata": {},
   "outputs": [],
   "source": []
  }
 ],
 "metadata": {
  "kernelspec": {
   "display_name": "Python 3",
   "language": "python",
   "name": "python3"
  },
  "language_info": {
   "codemirror_mode": {
    "name": "ipython",
    "version": 3
   },
   "file_extension": ".py",
   "mimetype": "text/x-python",
   "name": "python",
   "nbconvert_exporter": "python",
   "pygments_lexer": "ipython3",
   "version": "3.7.0"
  }
 },
 "nbformat": 4,
 "nbformat_minor": 2
}
